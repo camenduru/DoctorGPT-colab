{
    "cells": [
      {
        "cell_type": "markdown",
        "metadata": {
          "id": "view-in-github"
        },
        "source": [
          "[![Open In Colab](https://colab.research.google.com/assets/colab-badge.svg)](https://colab.research.google.com/github/camenduru/DoctorGPT-colab/blob/main/doctor-gpt-7b-text-generation-webui-colab.ipynb)"
        ]
      },
      {
        "cell_type": "code",
        "execution_count": null,
        "metadata": {
          "id": "VCFOzsQSHbjM"
        },
        "outputs": [],
        "source": [
          "%cd /content\n",
          "!apt-get -y install -qq aria2\n",
          "\n",
          "!git clone -b v2.1 https://github.com/camenduru/text-generation-webui\n",
          "%cd /content/text-generation-webui\n",
          "!pip install -r requirements.txt\n",
          "\n",
          "!aria2c --console-log-level=error -c -x 16 -s 16 -k 1M https://huggingface.co/4bit/medllama2_7b_s/resolve/main/model-00001-of-00002.safetensors -d /content/text-generation-webui/models/medllama2_7b -o model-00001-of-00002.safetensors\n",
          "!aria2c --console-log-level=error -c -x 16 -s 16 -k 1M https://huggingface.co/4bit/medllama2_7b_s/resolve/main/model-00002-of-00002.safetensors -d /content/text-generation-webui/models/medllama2_7b -o model-00002-of-00002.safetensors\n",
          "!aria2c --console-log-level=error -c -x 16 -s 16 -k 1M https://huggingface.co/4bit/medllama2_7b_s/raw/main/model.safetensors.index.json -d /content/text-generation-webui/models/medllama2_7b -o model.safetensors.index.json\n",
          "!aria2c --console-log-level=error -c -x 16 -s 16 -k 1M https://huggingface.co/4bit/medllama2_7b_s/raw/main/special_tokens_map.json -d /content/text-generation-webui/models/medllama2_7b -o special_tokens_map.json\n",
          "!aria2c --console-log-level=error -c -x 16 -s 16 -k 1M https://huggingface.co/4bit/medllama2_7b_s/raw/main/tokenizer.json -d /content/text-generation-webui/models/medllama2_7b -o tokenizer.json\n",
          "!aria2c --console-log-level=error -c -x 16 -s 16 -k 1M https://huggingface.co/4bit/medllama2_7b_s/raw/main/tokenizer_config.json -d /content/text-generation-webui/models/medllama2_7b -o tokenizer_config.json\n",
          "!aria2c --console-log-level=error -c -x 16 -s 16 -k 1M https://huggingface.co/4bit/medllama2_7b_s/raw/main/config.json -d /content/text-generation-webui/models/medllama2_7b -o config.json\n",
          "!aria2c --console-log-level=error -c -x 16 -s 16 -k 1M https://huggingface.co/4bit/medllama2_7b_s/raw/main/generation_config.json -d /content/text-generation-webui/models/medllama2_7b -o generation_config.json\n",
          "!aria2c --console-log-level=error -c -x 16 -s 16 -k 1M https://huggingface.co/4bit/medllama2_7b_s/resolve/main/tokenizer.model -d /content/text-generation-webui/models/medllama2_7b -o tokenizer.model\n",
          "\n",
          "%cd /content/text-generation-webui\n",
          "!python server.py --share --model /content/text-generation-webui/models/medllama2_7b"
        ]
      }
    ],
    "metadata": {
      "accelerator": "GPU",
      "colab": {
        "provenance": []
      },
      "gpuClass": "standard",
      "kernelspec": {
        "display_name": "Python 3",
        "name": "python3"
      },
      "language_info": {
        "name": "python"
      }
    },
    "nbformat": 4,
    "nbformat_minor": 0
  }
  